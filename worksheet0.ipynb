{
  "nbformat": 4,
  "nbformat_minor": 0,
  "metadata": {
    "colab": {
      "provenance": []
    },
    "kernelspec": {
      "name": "python3",
      "display_name": "Python 3"
    },
    "language_info": {
      "name": "python"
    }
  },
  "cells": [
    {
      "cell_type": "markdown",
      "source": [
        "##Basic Vector and Matrix Operation with Numpy."
      ],
      "metadata": {
        "id": "5Voe4yVwMxl-"
      }
    },
    {
      "cell_type": "markdown",
      "source": [
        "#Problem1: Array Creation"
      ],
      "metadata": {
        "id": "DulXQa8dM2q4"
      }
    },
    {
      "cell_type": "code",
      "execution_count": 2,
      "metadata": {
        "colab": {
          "base_uri": "https://localhost:8080/"
        },
        "id": "I9FYVYUMMsfM",
        "outputId": "7b35973f-2d09-40ac-e651-5e09086f503f"
      },
      "outputs": [
        {
          "output_type": "stream",
          "name": "stdout",
          "text": [
            "Empty 2x2 array:\n",
            " [[2.39852522e-316 0.00000000e+000]\n",
            " [1.58101007e-322 4.23274456e+175]]\n",
            "All-ones 4x2 array:\n",
            " [[1. 1.]\n",
            " [1. 1.]\n",
            " [1. 1.]\n",
            " [1. 1.]]\n",
            "3x3 array filled with 7:\n",
            " [[7 7 7]\n",
            " [7 7 7]\n",
            " [7 7 7]]\n",
            "Zeros array with same shape and type as sample_array:\n",
            " [[0 0]\n",
            " [0 0]]\n",
            "Ones array with same shape and type as sample_array:\n",
            " [[1 1]\n",
            " [1 1]]\n",
            "Numpy array from list:\n",
            " [1 2 3 4]\n"
          ]
        }
      ],
      "source": [
        "import numpy as np\n",
        "\n",
        "#1 Initialize an empty array with size 2x2\n",
        "empty_array = np.empty((2, 2))\n",
        "print(\"Empty 2x2 array:\\n\", empty_array)\n",
        "\n",
        "#2 Initialize an all-ones array with size 4x2\n",
        "ones_array = np.ones((4, 2))\n",
        "print(\"All-ones 4x2 array:\\n\", ones_array)\n",
        "\n",
        "#3 Return a new array of given shape and type, filled with a fill value\n",
        "filled_array = np.full((3, 3), 7)\n",
        "print(\"3x3 array filled with 7:\\n\", filled_array)\n",
        "\n",
        "#4 Return a new array of zeros with the same shape and type as a given array\n",
        "sample_array = np.array([[1, 2], [3, 4]])\n",
        "zeros_like_array = np.zeros_like(sample_array)\n",
        "print(\"Zeros array with same shape and type as sample_array:\\n\", zeros_like_array)\n",
        "\n",
        "#5 Return a new array of ones with the same shape and type as a given array\n",
        "ones_like_array = np.ones_like(sample_array)\n",
        "print(\"Ones array with same shape and type as sample_array:\\n\", ones_like_array)\n",
        "\n",
        "#6 Convert an existing list to a NumPy array\n",
        "new_list = [1, 2, 3, 4]\n",
        "numpy_array = np.array(new_list)\n",
        "print(\"Numpy array from list:\\n\", numpy_array)"
      ]
    },
    {
      "cell_type": "markdown",
      "source": [
        "#Problem - 2: Array Manipulation: Numerical Ranges and Array indexing:"
      ],
      "metadata": {
        "id": "AP8LZmOLNvUw"
      }
    },
    {
      "cell_type": "code",
      "source": [
        "import numpy as np\n",
        "\n",
        "#1 Create an array with values ranging from 10 to 49\n",
        "array_10_to_49 = np.arange(10, 50)\n",
        "print(\"Array with values from 10 to 49:\\n\", array_10_to_49)\n",
        "\n",
        "#2 Create a 3x3 matrix with values ranging from 0 to 8\n",
        "matrix_3x3 = np.arange(9).reshape(3, 3)\n",
        "print(\"3x3 matrix with values from 0 to 8:\\n\", matrix_3x3)\n",
        "\n",
        "#3 Create a 3x3 identity matrix\n",
        "identity_matrix = np.eye(3)\n",
        "print(\"3x3 identity matrix:\\n\", identity_matrix)\n",
        "\n",
        "#4 Create a random array of size 30 and find the mean\n",
        "random_array = np.random.random(30)\n",
        "mean_value = random_array.mean()\n",
        "print(\"Random array of size 30:\\n\", random_array)\n",
        "print(\"Mean of the array:\", mean_value)\n",
        "\n",
        "#5 Create a 10x10 array with random values and find the minimum and maximum values\n",
        "random_10x10 = np.random.random((10, 10))\n",
        "min_value = random_10x10.min()\n",
        "max_value = random_10x10.max()\n",
        "print(\"10x10 random array:\\n\", random_10x10)\n",
        "print(\"Minimum value:\", min_value)\n",
        "print(\"Maximum value:\", max_value)\n",
        "\n",
        "#6 Create a zero array of size 10 and replace the 5th element with 1\n",
        "zero_array = np.zeros(10)\n",
        "zero_array[4] = 1\n",
        "print(\"Zero array with 5th element replaced by 1:\\n\", zero_array)\n",
        "\n",
        "#7 Reverse an array `arr = [1, 2, 0, 0, 4, 0]`\n",
        "arr = np.array([1, 2, 0, 0, 4, 0])\n",
        "reversed_arr = arr[::-1]\n",
        "print(\"Reversed array:\\n\", reversed_arr)\n",
        "\n",
        "#8 Create a 2D array with 1 on the border and 0 inside\n",
        "border_array = np.ones((5, 5))\n",
        "border_array[1:-1, 1:-1] = 0\n",
        "print(\"2D array with 1 on the border and 0 inside:\\n\", border_array)\n",
        "\n",
        "#9 Create an 8x8 matrix and fill it with a checkerboard pattern\n",
        "checkerboard = np.zeros((8, 8), dtype=int)\n",
        "checkerboard[1::2, ::2] = 1\n",
        "checkerboard[::2, 1::2] = 1\n",
        "print(\"8x8 checkerboard pattern:\\n\", checkerboard)"
      ],
      "metadata": {
        "colab": {
          "base_uri": "https://localhost:8080/"
        },
        "id": "9VIbfbbqNsZj",
        "outputId": "77e4880f-15ac-4765-b8c1-4fda7d07fcc2"
      },
      "execution_count": 3,
      "outputs": [
        {
          "output_type": "stream",
          "name": "stdout",
          "text": [
            "Array with values from 10 to 49:\n",
            " [10 11 12 13 14 15 16 17 18 19 20 21 22 23 24 25 26 27 28 29 30 31 32 33\n",
            " 34 35 36 37 38 39 40 41 42 43 44 45 46 47 48 49]\n",
            "3x3 matrix with values from 0 to 8:\n",
            " [[0 1 2]\n",
            " [3 4 5]\n",
            " [6 7 8]]\n",
            "3x3 identity matrix:\n",
            " [[1. 0. 0.]\n",
            " [0. 1. 0.]\n",
            " [0. 0. 1.]]\n",
            "Random array of size 30:\n",
            " [0.07926051 0.08857749 0.17641279 0.54311586 0.75556897 0.62354469\n",
            " 0.70925143 0.5029167  0.37754223 0.34968662 0.5120427  0.59299829\n",
            " 0.40980052 0.74404521 0.90176915 0.66812827 0.38654064 0.22520607\n",
            " 0.13447091 0.12393946 0.62782779 0.8199222  0.04999    0.26210986\n",
            " 0.57868193 0.60326102 0.2093275  0.3128108  0.01481929 0.84970192]\n",
            "Mean of the array: 0.44110902759118625\n",
            "10x10 random array:\n",
            " [[0.69244065 0.63421221 0.13557933 0.97195463 0.0066251  0.84757083\n",
            "  0.6372717  0.23849597 0.81099147 0.83580238]\n",
            " [0.45392223 0.67349747 0.97208588 0.48419009 0.40995998 0.14006421\n",
            "  0.00854861 0.53852591 0.03182468 0.03799799]\n",
            " [0.4741251  0.33325431 0.95317895 0.60111192 0.26772364 0.86619607\n",
            "  0.24710887 0.45433533 0.39058091 0.98972098]\n",
            " [0.06981622 0.12224649 0.95422611 0.1316588  0.19653519 0.01487407\n",
            "  0.13708346 0.25769238 0.71876372 0.35058134]\n",
            " [0.01006363 0.23242272 0.65799029 0.37645114 0.2099365  0.3979832\n",
            "  0.54477746 0.97301142 0.28941986 0.39819465]\n",
            " [0.5410812  0.66348404 0.72857709 0.37830171 0.15617671 0.41511098\n",
            "  0.39509674 0.95665774 0.05331524 0.07480922]\n",
            " [0.75580934 0.01127055 0.76284126 0.22681671 0.03151806 0.51862307\n",
            "  0.73604955 0.23173552 0.15422042 0.37529675]\n",
            " [0.71067888 0.98964697 0.41688999 0.56989615 0.59647681 0.15620528\n",
            "  0.30859671 0.73740947 0.06481124 0.66057904]\n",
            " [0.33629211 0.82158819 0.9114987  0.16700695 0.44244706 0.83230954\n",
            "  0.48854647 0.004428   0.31897457 0.46839772]\n",
            " [0.15490369 0.60244154 0.0474784  0.5768235  0.48930511 0.46403712\n",
            "  0.2840647  0.25767027 0.12171207 0.31968653]]\n",
            "Minimum value: 0.004428000988424552\n",
            "Maximum value: 0.9897209806129128\n",
            "Zero array with 5th element replaced by 1:\n",
            " [0. 0. 0. 0. 1. 0. 0. 0. 0. 0.]\n",
            "Reversed array:\n",
            " [0 4 0 0 2 1]\n",
            "2D array with 1 on the border and 0 inside:\n",
            " [[1. 1. 1. 1. 1.]\n",
            " [1. 0. 0. 0. 1.]\n",
            " [1. 0. 0. 0. 1.]\n",
            " [1. 0. 0. 0. 1.]\n",
            " [1. 1. 1. 1. 1.]]\n",
            "8x8 checkerboard pattern:\n",
            " [[0 1 0 1 0 1 0 1]\n",
            " [1 0 1 0 1 0 1 0]\n",
            " [0 1 0 1 0 1 0 1]\n",
            " [1 0 1 0 1 0 1 0]\n",
            " [0 1 0 1 0 1 0 1]\n",
            " [1 0 1 0 1 0 1 0]\n",
            " [0 1 0 1 0 1 0 1]\n",
            " [1 0 1 0 1 0 1 0]]\n"
          ]
        }
      ]
    },
    {
      "cell_type": "markdown",
      "source": [
        "#Problem - 3: Array Operations:"
      ],
      "metadata": {
        "id": "VpSfSRW9PIK2"
      }
    },
    {
      "cell_type": "code",
      "source": [
        "#import numpy as np\n",
        "\n",
        "# Given arrays\n",
        "x = np.array([[1, 2], [3, 5]])\n",
        "y = np.array([[5, 6], [7, 8]])\n",
        "v = np.array([9, 10])\n",
        "w = np.array([11, 12])\n",
        "\n",
        "# 1. Add the two arrays\n",
        "add_result = x + y\n",
        "print(\"Addition of x and y:\\n\", add_result)\n",
        "\n",
        "# 2. Subtract the two arrays\n",
        "subtract_result = x - y\n",
        "print(\"Subtraction of x and y:\\n\", subtract_result)\n",
        "\n",
        "# 3. Multiply the array with any integer\n",
        "multiply_result = x * 3\n",
        "print(\"Multiplication of x by 3:\\n\", multiply_result)\n",
        "\n",
        "# 4. Find the square of each element of the array\n",
        "square_result = x**2\n",
        "print(\"Square of each element of x:\\n\", square_result)\n",
        "\n",
        "# 5. Find the dot product\n",
        "dot_vw = np.dot(v, w)\n",
        "print(\"Dot product of v and w:\", dot_vw)\n",
        "\n",
        "dot_xv = np.dot(x, v)\n",
        "print(\"Dot product of x and v:\", dot_xv)\n",
        "\n",
        "dot_xy = np.dot(x, y)\n",
        "print(\"Dot product of x and y:\\n\", dot_xy)\n",
        "\n",
        "# 6. Concatenate x and y along rows, and v and w along columns\n",
        "concatenate_rows = np.concatenate((x, y), axis=0)\n",
        "print(\"Concatenation of x and y along rows:\\n\", concatenate_rows)\n",
        "\n",
        "concatenate_columns = np.vstack((v, w)).T\n",
        "print(\"Concatenation of v and w along columns:\\n\", concatenate_columns)\n",
        "\n",
        "# 7. Concatenate x and v\n",
        "try:\n",
        "    concatenate_xv = np.concatenate((x, v))\n",
        "    print(\"Concatenation of x and v:\\n\", concatenate_xv)\n",
        "except ValueError as e:\n",
        "    print(\"Error:\", e)\n",
        "    print(\"Explanation: x is a 2D array with shape (2, 2), and v is a 1D array with shape (2,). Their dimensions do not match for concatenation.\")"
      ],
      "metadata": {
        "colab": {
          "base_uri": "https://localhost:8080/"
        },
        "id": "AhFSt1KLOajs",
        "outputId": "3940b352-0d72-4d42-eff6-e6dcc4f0ce3d"
      },
      "execution_count": 4,
      "outputs": [
        {
          "output_type": "stream",
          "name": "stdout",
          "text": [
            "Addition of x and y:\n",
            " [[ 6  8]\n",
            " [10 13]]\n",
            "Subtraction of x and y:\n",
            " [[-4 -4]\n",
            " [-4 -3]]\n",
            "Multiplication of x by 3:\n",
            " [[ 3  6]\n",
            " [ 9 15]]\n",
            "Square of each element of x:\n",
            " [[ 1  4]\n",
            " [ 9 25]]\n",
            "Dot product of v and w: 219\n",
            "Dot product of x and v: [29 77]\n",
            "Dot product of x and y:\n",
            " [[19 22]\n",
            " [50 58]]\n",
            "Concatenation of x and y along rows:\n",
            " [[1 2]\n",
            " [3 5]\n",
            " [5 6]\n",
            " [7 8]]\n",
            "Concatenation of v and w along columns:\n",
            " [[ 9 11]\n",
            " [10 12]]\n",
            "Error: all the input arrays must have same number of dimensions, but the array at index 0 has 2 dimension(s) and the array at index 1 has 1 dimension(s)\n",
            "Explanation: x is a 2D array with shape (2, 2), and v is a 1D array with shape (2,). Their dimensions do not match for concatenation.\n"
          ]
        }
      ]
    },
    {
      "cell_type": "markdown",
      "source": [
        "#Problem - 4: Matrix Operations:"
      ],
      "metadata": {
        "id": "SDVczsq0PeIF"
      }
    },
    {
      "cell_type": "code",
      "source": [
        "#import numpy as np\n",
        "\n",
        "# Given matrices\n",
        "A = np.array([[3, 4], [7, 8]])\n",
        "B = np.array([[5, 3], [2, 1]])\n",
        "\n",
        "# 1. Prove A * A^{-1} = I\n",
        "A_inv = np.linalg.inv(A)\n",
        "result = np.dot(A, A_inv)\n",
        "identity_matrix = np.eye(2)\n",
        "print(\"A * A^{-1}:\\n\", result)\n",
        "\n",
        "# 2. Prove AB != BA\n",
        "AB = np.dot(A, B)\n",
        "BA = np.dot(B, A)\n",
        "print(\"AB:\\n\", AB)\n",
        "print(\"BA:\\n\", BA)\n",
        "\n",
        "# 3. Prove (AB)^T = B^T A^T\n",
        "AB_transpose = AB.T\n",
        "BT_AT = np.dot(B.T, A.T)\n",
        "print(\"(AB)^T:\\n\", AB_transpose)\n",
        "print(\"B^T A^T:\\n\", BT_AT)\n",
        "\n",
        "# Solve the system of linear equations using inverse method\n",
        "A = np.array([[2, -3, 1], [1, -1, 2], [3, 1, -1]])\n",
        "B = np.array([[-1], [-3], [9]])\n",
        "A_inv = np.linalg.inv(A)\n",
        "X = np.dot(A_inv, B)\n",
        "print(\"Solution using inverse method:\\n\", X)\n",
        "\n",
        "# Solve the system of linear equations using np.linalg.solve\n",
        "X_solve = np.linalg.solve(A, B)\n",
        "print(\"Solution using np.linalg.solve:\\n\", X_solve)"
      ],
      "metadata": {
        "colab": {
          "base_uri": "https://localhost:8080/"
        },
        "id": "gorV3Un_PFHU",
        "outputId": "ae6a01db-d8c5-4b95-fb09-d23e78157109"
      },
      "execution_count": 7,
      "outputs": [
        {
          "output_type": "stream",
          "name": "stdout",
          "text": [
            "A * A^{-1}:\n",
            " [[1.00000000e+00 0.00000000e+00]\n",
            " [1.77635684e-15 1.00000000e+00]]\n",
            "AB:\n",
            " [[23 13]\n",
            " [51 29]]\n",
            "BA:\n",
            " [[36 44]\n",
            " [13 16]]\n",
            "(AB)^T:\n",
            " [[23 51]\n",
            " [13 29]]\n",
            "B^T A^T:\n",
            " [[23 51]\n",
            " [13 29]]\n",
            "Solution using inverse method:\n",
            " [[ 2.]\n",
            " [ 1.]\n",
            " [-2.]]\n",
            "Solution using np.linalg.solve:\n",
            " [[ 2.]\n",
            " [ 1.]\n",
            " [-2.]]\n"
          ]
        }
      ]
    },
    {
      "cell_type": "markdown",
      "source": [
        "##Experiment: How Fast is Numpy?"
      ],
      "metadata": {
        "id": "glBujFD6RMR9"
      }
    },
    {
      "cell_type": "markdown",
      "source": [
        "#1. Element-wise Addition:"
      ],
      "metadata": {
        "id": "VJftShsXROeC"
      }
    },
    {
      "cell_type": "code",
      "source": [
        "import time\n",
        "import numpy as np\n",
        "\n",
        "# Size of the arrays\n",
        "size = 1000000\n",
        "\n",
        "# Create two Python lists\n",
        "list1 = [i for i in range(size)]\n",
        "list2 = [i for i in range(size)]\n",
        "\n",
        "# Create two NumPy arrays\n",
        "array1 = np.arange(size)\n",
        "array2 = np.arange(size)\n",
        "\n",
        "# Element-wise addition using Python lists\n",
        "start_time = time.time()\n",
        "result_list = [a + b for a, b in zip(list1, list2)]\n",
        "end_time = time.time()\n",
        "list_time = end_time - start_time\n",
        "print(f\"Time taken for element-wise addition using Python lists: {list_time:.6f} seconds\")\n",
        "\n",
        "# Element-wise addition using NumPy arrays\n",
        "start_time = time.time()\n",
        "result_array = array1 + array2\n",
        "end_time = time.time()\n",
        "array_time = end_time - start_time\n",
        "print(f\"Time taken for element-wise addition using NumPy arrays: {array_time:.6f} seconds\")"
      ],
      "metadata": {
        "colab": {
          "base_uri": "https://localhost:8080/"
        },
        "id": "b9OIRqd6RTtZ",
        "outputId": "26139fd2-b20d-408f-c426-2b81b65116aa"
      },
      "execution_count": 9,
      "outputs": [
        {
          "output_type": "stream",
          "name": "stdout",
          "text": [
            "Time taken for element-wise addition using Python lists: 0.070663 seconds\n",
            "Time taken for element-wise addition using NumPy arrays: 0.007126 seconds\n"
          ]
        }
      ]
    },
    {
      "cell_type": "markdown",
      "source": [
        "#2. Element-wise Multiplication"
      ],
      "metadata": {
        "id": "JfefV_SESDZZ"
      }
    },
    {
      "cell_type": "code",
      "source": [
        "import time\n",
        "import numpy as np\n",
        "\n",
        "# Size of the arrays\n",
        "size = 1000000\n",
        "\n",
        "# Create two Python lists\n",
        "list1 = [i for i in range(size)]\n",
        "list2 = [i for i in range(size)]\n",
        "\n",
        "# Create two NumPy arrays\n",
        "array1 = np.arange(size)\n",
        "array2 = np.arange(size)\n",
        "\n",
        "# Element-wise multiplication using Python lists\n",
        "start_time = time.time()\n",
        "result_list = [a * b for a, b in zip(list1, list2)]\n",
        "end_time = time.time()\n",
        "list_time = end_time - start_time\n",
        "print(f\"Time taken for element-wise multiplication using Python lists: {list_time:.6f} seconds\")\n",
        "\n",
        "# Element-wise multiplication using NumPy arrays\n",
        "start_time = time.time()\n",
        "result_array = array1 * array2\n",
        "end_time = time.time()\n",
        "array_time = end_time - start_time\n",
        "print(f\"Time taken for element-wise multiplication using NumPy arrays: {array_time:.6f} seconds\")\n"
      ],
      "metadata": {
        "colab": {
          "base_uri": "https://localhost:8080/"
        },
        "id": "Xyw_qeJrSAaQ",
        "outputId": "fb9e96d6-d58c-473a-d43e-a0cc7f9e21b2"
      },
      "execution_count": 10,
      "outputs": [
        {
          "output_type": "stream",
          "name": "stdout",
          "text": [
            "Time taken for element-wise multiplication using Python lists: 0.154427 seconds\n",
            "Time taken for element-wise multiplication using NumPy arrays: 0.005377 seconds\n"
          ]
        }
      ]
    },
    {
      "cell_type": "markdown",
      "source": [
        "#3. Dot Product"
      ],
      "metadata": {
        "id": "sx5KSE9KTk99"
      }
    },
    {
      "cell_type": "code",
      "source": [
        "import time\n",
        "import numpy as np\n",
        "\n",
        "# Size of the arrays\n",
        "size = 1000000\n",
        "\n",
        "# Create two Python lists\n",
        "list1 = [i for i in range(size)]\n",
        "list2 = [i for i in range(size)]\n",
        "\n",
        "# Create two NumPy arrays\n",
        "array1 = np.arange(size)\n",
        "array2 = np.arange(size)\n",
        "\n",
        "# Dot product using Python lists\n",
        "start_time = time.time()\n",
        "dot_product_list = sum(a * b for a, b in zip(list1, list2))\n",
        "end_time = time.time()\n",
        "list_time = end_time - start_time\n",
        "print(f\"Time taken for dot product using Python lists: {list_time:.6f} seconds\")\n",
        "\n",
        "# Dot product using NumPy arrays\n",
        "start_time = time.time()\n",
        "dot_product_array = np.dot(array1, array2)\n",
        "end_time = time.time()\n",
        "array_time = end_time - start_time\n",
        "print(f\"Time taken for dot product using NumPy arrays: {array_time:.6f} seconds\")\n"
      ],
      "metadata": {
        "colab": {
          "base_uri": "https://localhost:8080/"
        },
        "id": "d8uM9HgFTjK9",
        "outputId": "47a7b6e4-60a1-408d-b51a-90739c86515c"
      },
      "execution_count": 11,
      "outputs": [
        {
          "output_type": "stream",
          "name": "stdout",
          "text": [
            "Time taken for dot product using Python lists: 0.133593 seconds\n",
            "Time taken for dot product using NumPy arrays: 0.002124 seconds\n"
          ]
        }
      ]
    },
    {
      "cell_type": "markdown",
      "source": [
        "#Matrix Multiplication"
      ],
      "metadata": {
        "id": "bAmbrvCPUnhi"
      }
    },
    {
      "cell_type": "code",
      "source": [
        "import time\n",
        "import numpy as np\n",
        "\n",
        "# Size of the matrices\n",
        "size = 1000\n",
        "\n",
        "# Create two Python lists (matrices)\n",
        "list1 = [[i + j for j in range(size)] for i in range(size)]\n",
        "list2 = [[i + j for j in range(size)] for i in range(size)]\n",
        "\n",
        "# Create two NumPy arrays (matrices)\n",
        "array1 = np.array(list1)\n",
        "array2 = np.array(list2)\n",
        "\n",
        "# Matrix multiplication using Python lists\n",
        "def matrix_multiply_python(A, B):\n",
        "    result = [[0 for _ in range(size)] for _ in range(size)]\n",
        "    for i in range(size):\n",
        "        for j in range(size):\n",
        "            for k in range(size):\n",
        "                result[i][j] += A[i][k] * B[k][j]\n",
        "    return result\n",
        "\n",
        "start_time = time.time()\n",
        "result_list = matrix_multiply_python(list1, list2)\n",
        "end_time = time.time()\n",
        "list_time = end_time - start_time\n",
        "print(f\"Time taken for matrix multiplication using Python lists: {list_time:.6f} seconds\")\n",
        "\n",
        "# Matrix multiplication using NumPy arrays\n",
        "start_time = time.time()\n",
        "result_array = np.dot(array1, array2)\n",
        "end_time = time.time()\n",
        "array_time = end_time - start_time\n",
        "print(f\"Time taken for matrix multiplication using NumPy arrays: {array_time:.6f} seconds\")\n"
      ],
      "metadata": {
        "colab": {
          "base_uri": "https://localhost:8080/"
        },
        "id": "fe2c1M4_UeKr",
        "outputId": "475ea66d-e4a2-4adf-e354-a0f6edd72103"
      },
      "execution_count": 12,
      "outputs": [
        {
          "output_type": "stream",
          "name": "stdout",
          "text": [
            "Time taken for matrix multiplication using Python lists: 236.575397 seconds\n",
            "Time taken for matrix multiplication using NumPy arrays: 2.153225 seconds\n"
          ]
        }
      ]
    }
  ]
}